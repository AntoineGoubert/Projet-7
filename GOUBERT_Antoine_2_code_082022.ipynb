{
 "cells": [
  {
   "cell_type": "markdown",
   "metadata": {
    "collapsed": true,
    "pycharm": {
     "name": "#%% md\n"
    }
   },
   "source": [
    "# **Sommaire**\n",
    "\n",
    "## 1. **Données utilisées**\n",
    "\n",
    "* COCO test-dev\n",
    "* Traitement des données\n",
    "\n",
    "## 2. **Modèle de base**\n",
    "* Modèle pré-entraîné\n",
    "* Modèle barebones\n",
    "* Fichier de tracking\n",
    "\n",
    "## 3. **Axes de modification et application de ces derniers**\n",
    "* Beam Search\n",
    "* Mécanisme d'attention\n",
    "* Data  Augmentation\n",
    "* Template Matching"
   ]
  },
  {
   "cell_type": "markdown",
   "source": [
    "# Imports"
   ],
   "metadata": {
    "collapsed": false,
    "pycharm": {
     "name": "#%% md\n"
    }
   }
  },
  {
   "cell_type": "code",
   "execution_count": 12,
   "outputs": [],
   "source": [
    "import numpy as np\n",
    "import os\n",
    "import seaborn as sns\n",
    "import pandas as pd\n",
    "import cv2 as cv\n",
    "import matplotlib.pyplot as plt\n",
    "import glob\n",
    "import time\n",
    "import torch\n",
    "import torchvision\n",
    "import sys\n",
    "import json"
   ],
   "metadata": {
    "collapsed": false,
    "pycharm": {
     "name": "#%%\n"
    }
   }
  },
  {
   "cell_type": "markdown",
   "source": [
    "# 1. **Données utilisées**\n",
    "\n",
    "* COCO test-dev"
   ],
   "metadata": {
    "collapsed": false,
    "pycharm": {
     "name": "#%% md\n"
    }
   }
  },
  {
   "cell_type": "code",
   "execution_count": null,
   "outputs": [],
   "source": [
    "#mettre en place une fois le dataset téléchargé"
   ],
   "metadata": {
    "collapsed": false,
    "pycharm": {
     "name": "#%%\n"
    }
   }
  },
  {
   "cell_type": "markdown",
   "source": [
    "* Traitement des données"
   ],
   "metadata": {
    "collapsed": false,
    "pycharm": {
     "name": "#%% md\n"
    }
   }
  },
  {
   "cell_type": "code",
   "execution_count": null,
   "outputs": [],
   "source": [
    "#mettre en place une fois le dataset téléchargé"
   ],
   "metadata": {
    "collapsed": false,
    "pycharm": {
     "name": "#%%\n"
    }
   }
  },
  {
   "cell_type": "markdown",
   "source": [
    "# 2. **Modèle de base**\n",
    "* Modèle pré-entraîné\n",
    "\n",
    "On importe le modèle entraîné en utilisant le ResNet50, qui est celui qui donne les meilleurs résultats."
   ],
   "metadata": {
    "collapsed": false,
    "pycharm": {
     "name": "#%% md\n"
    }
   }
  },
  {
   "cell_type": "code",
   "execution_count": null,
   "outputs": [],
   "source": [
    "model = torch.hub.load('facebookresearch/dino:main', 'dino_resnet50')"
   ],
   "metadata": {
    "collapsed": false,
    "pycharm": {
     "name": "#%%\n"
    }
   }
  },
  {
   "cell_type": "markdown",
   "source": [
    "* Modèle barebones\n",
    "\n",
    "On reproduit complètement le modèle pour pouvoir en changer la structure. Si les tentatives sont non fructueuses on\n",
    "utilisera le modèle importé plus haut pour le fine-tuning."
   ],
   "metadata": {
    "collapsed": false,
    "pycharm": {
     "name": "#%% md\n"
    }
   }
  },
  {
   "cell_type": "code",
   "execution_count": null,
   "outputs": [],
   "source": [
    "#introduire ici le modèle \"recopié\" qui servira de référence. Les modifications seront détaillées plus bas dans la partie\n",
    "#dédiée"
   ],
   "metadata": {
    "collapsed": false,
    "pycharm": {
     "name": "#%%\n"
    }
   }
  },
  {
   "cell_type": "markdown",
   "source": [
    "* Fichier de tracking\n",
    "\n",
    "On introduit un fichier de tracking pour garder en mémoire les résultats générés par les différentes modifications\n",
    "apportées lors de notre étude."
   ],
   "metadata": {
    "collapsed": false,
    "pycharm": {
     "name": "#%% md\n"
    }
   }
  },
  {
   "cell_type": "code",
   "execution_count": null,
   "outputs": [],
   "source": [
    "Tracking=pd.DataFrame(columns=['Changes','Params','Score','Time'])\n",
    "#Tracking=pd.read_csv(path_to_track)"
   ],
   "metadata": {
    "collapsed": false,
    "pycharm": {
     "name": "#%%\n"
    }
   }
  },
  {
   "cell_type": "markdown",
   "source": [
    "# 3. **Axes de modification et application de ces derniers**\n",
    "\n",
    "On implémente en premier lieu une fonction pour créer le modèle. On utilisera les arguments de la fonction pour changer\n",
    "quelle modification s'applique ou non."
   ],
   "metadata": {
    "collapsed": false,
    "pycharm": {
     "name": "#%% md\n"
    }
   }
  },
  {
   "cell_type": "code",
   "execution_count": null,
   "outputs": [],
   "source": [
    "def CreateModel():\n",
    "    return 0"
   ],
   "metadata": {
    "collapsed": false,
    "pycharm": {
     "name": "#%%\n"
    }
   }
  }
 ],
 "metadata": {
  "kernelspec": {
   "display_name": "Python 3",
   "language": "python",
   "name": "python3"
  },
  "language_info": {
   "codemirror_mode": {
    "name": "ipython",
    "version": 2
   },
   "file_extension": ".py",
   "mimetype": "text/x-python",
   "name": "python",
   "nbconvert_exporter": "python",
   "pygments_lexer": "ipython2",
   "version": "2.7.6"
  }
 },
 "nbformat": 4,
 "nbformat_minor": 0
}